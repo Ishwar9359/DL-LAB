{
 "cells": [
  {
   "cell_type": "code",
   "execution_count": 1,
   "id": "8df09842",
   "metadata": {},
   "outputs": [
    {
     "name": "stderr",
     "output_type": "stream",
     "text": [
      "C:\\Users\\ishwa\\anaconda3\\lib\\site-packages\\scipy\\__init__.py:155: UserWarning: A NumPy version >=1.18.5 and <1.25.0 is required for this version of SciPy (detected version 1.26.1\n",
      "  warnings.warn(f\"A NumPy version >={np_minversion} and <{np_maxversion}\"\n"
     ]
    }
   ],
   "source": [
    "import tensorflow as tf\n",
    "from tensorflow.keras.datasets import cifar10\n",
    "from tensorflow.keras.applications import VGG16\n",
    "from tensorflow.keras.models import Sequential\n",
    "from tensorflow.keras.layers import Flatten, Dense\n",
    "from tensorflow.keras.utils import to_categorical\n"
   ]
  },
  {
   "cell_type": "code",
   "execution_count": 2,
   "id": "07c1e08f",
   "metadata": {},
   "outputs": [],
   "source": [
    "# Load CIFAR-10 dataset\n",
    "(itrain, ltrain), (itest, ltest) = cifar10.load_data()\n"
   ]
  },
  {
   "cell_type": "code",
   "execution_count": 3,
   "id": "e4a730fd",
   "metadata": {},
   "outputs": [],
   "source": [
    "# Preprocess the data\n",
    "itrain = itrain / 255.0\n",
    "itest = itest / 255.0\n",
    "ltrain = to_categorical(ltrain)\n",
    "ltest = to_categorical(ltest)"
   ]
  },
  {
   "cell_type": "code",
   "execution_count": 4,
   "id": "8564f2ec",
   "metadata": {},
   "outputs": [],
   "source": [
    "# Load pre-trained VGG16 model (excluding the top fully-connected layers)\n",
    "basem = VGG16(weights='imagenet', include_top=False, input_shape=(32, 32, 3))"
   ]
  },
  {
   "cell_type": "code",
   "execution_count": 5,
   "id": "87921a82",
   "metadata": {},
   "outputs": [],
   "source": [
    "# Freeze the pre-trained layers\n",
    "for layer in basem.layers:\n",
    "   layer.trainable = False"
   ]
  },
  {
   "cell_type": "code",
   "execution_count": 6,
   "id": "7533f443",
   "metadata": {},
   "outputs": [],
   "source": [
    "#c. Add custom classifier with several layers of trainable parameters to model\n",
    "from tensorflow.keras.models import Model\n",
    "x = Flatten()(basem.output)\n",
    "x = Dense(64, activation='relu')(x)\n",
    "predictions = Dense(102, activation='softmax')(x)\n",
    "\n",
    "# Create the model\n",
    "model = Model(inputs=basem.input, outputs=predictions)\n",
    "# Compile the model\n",
    "model.compile(optimizer=\"adam\", loss='categorical_crossentropy', metrics=['accuracy'])"
   ]
  },
  {
   "cell_type": "code",
   "execution_count": 7,
   "id": "fd2ea887",
   "metadata": {},
   "outputs": [],
   "source": [
    "# Create a new model on top\n",
    "semodel = Sequential()\n",
    "semodel.add(basem)\n",
    "semodel.add(Flatten())\n",
    "semodel.add(Dense(256, activation='relu'))\n",
    "semodel.add(Dense(10, activation='softmax'))  # CIFAR-10 has 10 classe"
   ]
  },
  {
   "cell_type": "code",
   "execution_count": 8,
   "id": "5a904051",
   "metadata": {},
   "outputs": [],
   "source": [
    "# Compile the model\n",
    "semodel.compile(optimizer='adam', loss='categorical_crossentropy', metrics=['accuracy'])"
   ]
  },
  {
   "cell_type": "code",
   "execution_count": 9,
   "id": "48e87545",
   "metadata": {},
   "outputs": [
    {
     "name": "stdout",
     "output_type": "stream",
     "text": [
      "Epoch 1/2\n",
      "1563/1563 [==============================] - 166s 106ms/step - loss: 1.3445 - accuracy: 0.5281 - val_loss: 1.2405 - val_accuracy: 0.5614\n",
      "Epoch 2/2\n",
      "1563/1563 [==============================] - 181s 116ms/step - loss: 1.1707 - accuracy: 0.5909 - val_loss: 1.1767 - val_accuracy: 0.5863\n"
     ]
    },
    {
     "data": {
      "text/plain": [
       "<keras.src.callbacks.History at 0x19dd10f5bb0>"
      ]
     },
     "execution_count": 9,
     "metadata": {},
     "output_type": "execute_result"
    }
   ],
   "source": [
    "#d. Train classifier layers on training data available for task\n",
    "# Train the model\n",
    "semodel.fit(itrain, ltrain, epochs=2, batch_size=32, validation_data=(itest, ltest))"
   ]
  },
  {
   "cell_type": "code",
   "execution_count": 10,
   "id": "b6d6c42a-c632-4c26-93d5-4078244f5113",
   "metadata": {},
   "outputs": [
    {
     "name": "stdout",
     "output_type": "stream",
     "text": [
      "313/313 [==============================] - 24s 76ms/step - loss: 1.1767 - accuracy: 0.5863\n",
      "Test accuracy: 0.5863000154495239\n"
     ]
    }
   ],
   "source": [
    "# Evaluate the model on test data\n",
    "ltest, atest = semodel.evaluate(itest, ltest)\n",
    "print(\"Test accuracy:\", atest)"
   ]
  },
  {
   "cell_type": "code",
   "execution_count": 11,
   "id": "7e6e74b3",
   "metadata": {},
   "outputs": [
    {
     "data": {
      "image/png": "[encoded data removed]",
      "text/plain": [
       "<PIL.JpegImagePlugin.JpegImageFile image mode=RGB size=32x32>"
      ]
     },
     "execution_count": 11,
     "metadata": {},
     "output_type": "execute_result"
    }
   ],
   "source": [
    "from PIL import Image\n",
    "img = Image.open(\"plane323.jpg\")\n",
    "img"
   ]
  },
  {
   "cell_type": "code",
   "execution_count": 12,
   "id": "474db47c-cc52-4778-8218-c10a903c2936",
   "metadata": {},
   "outputs": [],
   "source": [
    "import numpy as np\n",
    "img = tf.keras.preprocessing.image.img_to_array(img)\n",
    "img = np.array([img])"
   ]
  },
  {
   "cell_type": "code",
   "execution_count": 13,
   "id": "25fa2bfc-a738-4540-857d-a9625a782cd8",
   "metadata": {},
   "outputs": [
    {
     "name": "stdout",
     "output_type": "stream",
     "text": [
      "1/1 [==============================] - 0s 201ms/step\n"
     ]
    }
   ],
   "source": [
    "res = semodel.predict(img)"
   ]
  },
  {
   "cell_type": "code",
   "execution_count": 14,
   "id": "a170cd35-f264-4cfd-a88a-14208eea3f3c",
   "metadata": {},
   "outputs": [
    {
     "data": {
      "text/plain": [
       "'horse'"
      ]
     },
     "execution_count": 14,
     "metadata": {},
     "output_type": "execute_result"
    }
   ],
   "source": [
    "labels = '''airplane automobile bird cat deer dog frog horse ship truck'''.split()\n",
    "labels[res.argmax()]"
   ]
  },
  {
   "cell_type": "code",
   "execution_count": null,
   "id": "e84cb8b6-8727-441d-a2ce-947ad0ab4adc",
   "metadata": {},
   "outputs": [],
   "source": []
  }
 ],
 "metadata": {
  "kernelspec": {
   "display_name": "Python 3 (ipykernel)",
   "language": "python",
   "name": "python3"
  },
  "language_info": {
   "codemirror_mode": {
    "name": "ipython",
    "version": 3
   },
   "file_extension": ".py",
   "mimetype": "text/x-python",
   "name": "python",
   "nbconvert_exporter": "python",
   "pygments_lexer": "ipython3",
   "version": "3.9.13"
  }
 },
 "nbformat": 4,
 "nbformat_minor": 5
}
