{
 "cells": [
  {
   "cell_type": "code",
   "execution_count": 1,
   "id": "8df09842",
   "metadata": {},
   "outputs": [
    {
     "name": "stderr",
     "output_type": "stream",
     "text": [
      "C:\\Users\\ishwa\\anaconda3\\lib\\site-packages\\scipy\\__init__.py:155: UserWarning: A NumPy version >=1.18.5 and <1.25.0 is required for this version of SciPy (detected version 1.26.1\n",
      "  warnings.warn(f\"A NumPy version >={np_minversion} and <{np_maxversion}\"\n"
     ]
    }
   ],
   "source": [
    "import tensorflow as tf\n",
    "from tensorflow.keras.datasets import cifar10\n",
    "from tensorflow.keras.applications import VGG16\n",
    "from tensorflow.keras.models import Sequential\n",
    "from tensorflow.keras.layers import Flatten, Dense\n",
    "from tensorflow.keras.utils import to_categorical\n"
   ]
  },
  {
   "cell_type": "code",
   "execution_count": 2,
   "id": "07c1e08f",
   "metadata": {},
   "outputs": [],
   "source": [
    "# Load CIFAR-10 dataset\n",
    "(itrain, ltrain), (itest, ltest) = cifar10.load_data()\n"
   ]
  },
  {
   "cell_type": "code",
   "execution_count": 3,
   "id": "e4a730fd",
   "metadata": {},
   "outputs": [],
   "source": [
    "# Preprocess the data\n",
    "itrain = itrain / 255.0\n",
    "itest = itest / 255.0\n",
    "ltrain = to_categorical(ltrain)\n",
    "ltest = to_categorical(ltest)"
   ]
  },
  {
   "cell_type": "code",
   "execution_count": 4,
   "id": "8564f2ec",
   "metadata": {},
   "outputs": [],
   "source": [
    "# Load pre-trained VGG16 model (excluding the top fully-connected layers)\n",
    "basem = VGG16(weights='imagenet', include_top=False, input_shape=(32, 32, 3))"
   ]
  },
  {
   "cell_type": "code",
   "execution_count": 5,
   "id": "87921a82",
   "metadata": {},
   "outputs": [],
   "source": [
    "# Freeze the pre-trained layers\n",
    "for layer in basem.layers:\n",
    "   layer.trainable = False"
   ]
  },
  {
   "cell_type": "code",
   "execution_count": 6,
   "id": "7533f443",
   "metadata": {},
   "outputs": [],
   "source": [
    "#c. Add custom classifier with several layers of trainable parameters to model\n",
    "from tensorflow.keras.models import Model\n",
    "x = Flatten()(basem.output)\n",
    "x = Dense(64, activation='relu')(x)\n",
    "predictions = Dense(102, activation='softmax')(x)\n",
    "\n",
    "# Create the model\n",
    "model = Model(inputs=basem.input, outputs=predictions)\n",
    "# Compile the model\n",
    "model.compile(optimizer=\"adam\", loss='categorical_crossentropy', metrics=['accuracy'])"
   ]
  },
  {
   "cell_type": "code",
   "execution_count": 7,
   "id": "fd2ea887",
   "metadata": {},
   "outputs": [],
   "source": [
    "# Create a new model on top\n",
    "semodel = Sequential()\n",
    "semodel.add(basem)\n",
    "semodel.add(Flatten())\n",
    "semodel.add(Dense(256, activation='relu'))\n",
    "semodel.add(Dense(10, activation='softmax'))  # CIFAR-10 has 10 classe"
   ]
  },
  {
   "cell_type": "code",
   "execution_count": 8,
   "id": "5a904051",
   "metadata": {},
   "outputs": [],
   "source": [
    "# Compile the model\n",
    "semodel.compile(optimizer='adam', loss='categorical_crossentropy', metrics=['accuracy'])"
   ]
  },
  {
   "cell_type": "code",
   "execution_count": 9,
   "id": "48e87545",
   "metadata": {},
   "outputs": [
    {
     "name": "stdout",
     "output_type": "stream",
     "text": [
      "Epoch 1/2\n",
      "1563/1563 [==============================] - 329s 209ms/step - loss: 1.3440 - accuracy: 0.5291 - val_loss: 1.2348 - val_accuracy: 0.5679\n",
      "Epoch 2/2\n",
      "1563/1563 [==============================] - 344s 220ms/step - loss: 1.1702 - accuracy: 0.5879 - val_loss: 1.1853 - val_accuracy: 0.5833\n"
     ]
    },
    {
     "data": {
      "text/plain": [
       "<keras.src.callbacks.History at 0x15957c18e80>"
      ]
     },
     "execution_count": 9,
     "metadata": {},
     "output_type": "execute_result"
    }
   ],
   "source": [
    "#d. Train classifier layers on training data available for task\n",
    "# Train the model\n",
    "semodel.fit(itrain, ltrain, epochs=2, batch_size=32, validation_data=(itest, ltest))"
   ]
  },
  {
   "cell_type": "code",
   "execution_count": 10,
   "id": "9dff255a",
   "metadata": {},
   "outputs": [
    {
     "name": "stdout",
     "output_type": "stream",
     "text": [
      "313/313 [==============================] - 53s 171ms/step - loss: 1.1853 - accuracy: 0.5833\n",
      "Test accuracy: 0.583299994468689\n"
     ]
    }
   ],
   "source": [
    "# Evaluate the model on test data\n",
    "ltest, atest = semodel.evaluate(itest, ltest)\n",
    "print(\"Test accuracy:\", atest)"
   ]
  },
  {
   "cell_type": "code",
   "execution_count": null,
   "id": "d24cd7c5",
   "metadata": {},
   "outputs": [],
   "source": []
  },
  {
   "cell_type": "code",
   "execution_count": null,
   "id": "7e6e74b3",
   "metadata": {},
   "outputs": [],
   "source": []
  }
 ],
 "metadata": {
  "kernelspec": {
   "display_name": "Python 3 (ipykernel)",
   "language": "python",
   "name": "python3"
  },
  "language_info": {
   "codemirror_mode": {
    "name": "ipython",
    "version": 3
   },
   "file_extension": ".py",
   "mimetype": "text/x-python",
   "name": "python",
   "nbconvert_exporter": "python",
   "pygments_lexer": "ipython3",
   "version": "3.9.13"
  }
 },
 "nbformat": 4,
 "nbformat_minor": 5
}
